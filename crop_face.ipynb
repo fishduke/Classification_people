{
 "cells": [
  {
   "cell_type": "code",
   "execution_count": 80,
   "metadata": {
    "tags": []
   },
   "outputs": [
    {
     "output_type": "stream",
     "name": "stdout",
     "text": "left, top, right, bottom :  520 281 735 496\n"
    },
    {
     "output_type": "execute_result",
     "data": {
      "text/plain": "True"
     },
     "metadata": {},
     "execution_count": 80
    }
   ],
   "source": [
    "import dlib\n",
    "import cv2\n",
    "face_detector = dlib.get_frontal_face_detector()\n",
    "img = cv2.imread('./Dataset/face/hand1.jpg')\n",
    "# img = cv2.cvtColor(img, cv2.COLOR_BGR2RGB)\n",
    "faces = face_detector(img)\n",
    "size = 80\n",
    "\n",
    "# print(\"{} faces are detected.\".format(len(faces)))\n",
    "for f in faces:\n",
    "    print(\"left, top, right, bottom : \", f.left(), f.top(), f.right(), f.bottom())\n",
    "    # cv2.rectangle(img, (f.left(), f.top()), (f.right(), f.bottom()), (0,0,255),2)\n",
    "    cv2.rectangle(img, ((f.left()-size), (f.top()-size)), ((f.right()+size),(f.bottom()+size)), (0,0,255),2)\n",
    "\n",
    "# win = dlib.image_window()\n",
    "# win.set_image(img)\n",
    "# win.add_overlay(faces)\n",
    "\n",
    "crop = img[(f.top()-size):(f.bottom()+size), (f.left()-size):(f.right()+size)]\n",
    "cv2.imwrite(\"output.jpg\", crop, [cv2.IMWRITE_JPEG_QUALITY, 80])"
   ]
  },
  {
   "cell_type": "code",
   "execution_count": 113,
   "metadata": {
    "tags": []
   },
   "outputs": [
    {
     "output_type": "stream",
     "name": "stdout",
     "text": "img_area 1063200\narea 46225\nimg_area 155250\narea 5184\nimg_area 110592\narea 10609\n9 장의 사진 중 3 장의 얼굴 사진 Crop 완료\n"
    }
   ],
   "source": [
    "import dlib\n",
    "import cv2\n",
    "import glob\n",
    "from PIL import Image\n",
    "\n",
    "face_detector = dlib.get_frontal_face_detector()\n",
    "size = 60\n",
    "crop_count = 0\n",
    "data_path = './Dataset/Train/'\n",
    "\n",
    "#데이터 로드\n",
    "face_set = glob.glob('./Dataset/face/*.jpg')\n",
    "\n",
    "# img = cv2.imread('./Dataset/face/hand1.jpg')\n",
    "for i in range(len(face_set)):\n",
    "    #사이즈 비율 정하기\n",
    "    img = Image.open(face_set[i])\n",
    "    width, height = img.size\n",
    "\n",
    "    #이미지 데이터 1개씩 로드\n",
    "    img = cv2.imread(face_set[i])\n",
    "    img_area = width * height\n",
    "\n",
    "    #얼굴 디텍트\n",
    "    faces = face_detector(img)\n",
    "    \n",
    "    #디텍트 된 얼굴 수에 따른 반응 설정\n",
    "    if len(faces) > 1:\n",
    "        pass\n",
    "    elif len(faces) != 0:\n",
    "        for f in faces:\n",
    "            # print(\"left, top, right, bottom : \", f.left(), f.top(), f.right(), f.bottom())\n",
    "            \n",
    "            width = abs(f.left() - f.right())\n",
    "            height = abs(f.top() - f.bottom())\n",
    "            area = width * height\n",
    "            print('img_area',img_area)\n",
    "            print('area',area)\n",
    "            \n",
    "            crop = img[(f.top()-size):(f.bottom()+size), (f.left()-size):(f.right()+size)]\n",
    "            i = str(i)+\".jpg\"\n",
    "            data_path_a = data_path + i\n",
    "            cv2.imwrite(data_path_a, crop, [cv2.IMWRITE_JPEG_QUALITY, 100])\n",
    "            crop_count += 1\n",
    "            i = 0\n",
    "            \n",
    "print(len(face_set),'장의 사진 중',crop_count,'장의 얼굴 사진 Crop 완료')\n",
    "\n"
   ]
  },
  {
   "cell_type": "code",
   "execution_count": 106,
   "metadata": {
    "tags": []
   },
   "outputs": [],
   "source": [
    "a = cv2.imread('./Dataset/face/apink1.jpg')"
   ]
  },
  {
   "cell_type": "code",
   "execution_count": 109,
   "metadata": {
    "tags": []
   },
   "outputs": [
    {
     "output_type": "execute_result",
     "data": {
      "text/plain": "(750, 500, 3)"
     },
     "metadata": {},
     "execution_count": 109
    }
   ],
   "source": [
    "a.shape"
   ]
  },
  {
   "cell_type": "code",
   "execution_count": null,
   "metadata": {},
   "outputs": [],
   "source": []
  }
 ],
 "metadata": {
  "kernelspec": {
   "name": "python361064bittarocatconda1728d964b65b467cac41ed427c5dc19b",
   "display_name": "Python 3.6.10 64-bit ('tarocat': conda)"
  }
 },
 "nbformat": 4,
 "nbformat_minor": 4
}