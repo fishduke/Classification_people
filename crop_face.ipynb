{
 "cells": [
  {
   "cell_type": "code",
   "execution_count": 118,
   "metadata": {
    "tags": []
   },
   "outputs": [
    {
     "output_type": "stream",
     "name": "stdout",
     "text": "left, top, right, bottom :  221 109 293 181\n"
    },
    {
     "output_type": "execute_result",
     "data": {
      "text/plain": "True"
     },
     "metadata": {},
     "execution_count": 118
    }
   ],
   "source": [
    "import dlib\n",
    "import cv2\n",
    "face_detector = dlib.get_frontal_face_detector()\n",
    "img = cv2.imread('./Dataset/face/hand2.jpg')\n",
    "# img = cv2.cvtColor(img, cv2.COLOR_BGR2RGB)\n",
    "faces = face_detector(img)\n",
    "size = 80\n",
    "\n",
    "# print(\"{} faces are detected.\".format(len(faces)))\n",
    "for f in faces:\n",
    "    print(\"left, top, right, bottom : \", f.left(), f.top(), f.right(), f.bottom())\n",
    "    # cv2.rectangle(img, (f.left(), f.top()), (f.right(), f.bottom()), (0,0,255),2)\n",
    "    cv2.rectangle(img, ((f.left()-size), (f.top()-size)), ((f.right()+size),(f.bottom()+size)), (0,0,255),2)\n",
    "\n",
    "# win = dlib.image_window()\n",
    "# win.set_image(img)\n",
    "# win.add_overlay(faces)\n",
    "\n",
    "crop = img[(f.top()-size):(f.bottom()+size), (f.left()-size):(f.right()+size)]\n",
    "cv2.imwrite(\"output.jpg\", crop, [cv2.IMWRITE_JPEG_QUALITY, 80])"
   ]
  },
  {
   "cell_type": "code",
   "execution_count": 1,
   "metadata": {
    "tags": []
   },
   "outputs": [
    {
     "output_type": "stream",
     "name": "stdout",
     "text": "얼굴 검출 성공 => ./Dataset/face\\apink1.jpg\n얼굴 검출 성공 => ./Dataset/face\\apink2.jpg\n얼굴 검출 성공 => ./Dataset/face\\golf.jpg\n얼굴 검출 성공 => ./Dataset/face\\hand1.jpg\n얼굴 검출 성공 => ./Dataset/face\\hand2.jpg\n얼굴 검출 성공 => ./Dataset/face\\kimgunwoo.jpg\n얼굴 검출 실패 => ./Dataset/face\\p1.jpg\n얼굴 검출 성공 => ./Dataset/face\\p2.jpg\n얼굴 검출 성공 => ./Dataset/face\\p3.jpg\n9 장의 사진 중 14 개의 얼굴 검출, Crop 완료\n"
    }
   ],
   "source": [
    "import dlib\n",
    "import cv2\n",
    "import glob\n",
    "from PIL import Image\n",
    "\n",
    "face_detector = dlib.get_frontal_face_detector()\n",
    "crop_count = 0\n",
    "data_path = './Dataset/Train/'\n",
    "\n",
    "#데이터 로드\n",
    "face_set = glob.glob('./Dataset/face/*.jpg')\n",
    "\n",
    "# img = cv2.imread('./Dataset/face/hand1.jpg')\n",
    "for i in range(len(face_set)):\n",
    "    #사이즈 비율 정하기\n",
    "    img = Image.open(face_set[i])\n",
    "    width, height = img.size\n",
    "\n",
    "    #이미지 데이터 1개씩 로드\n",
    "    img = cv2.imread(face_set[i])\n",
    "    img_area = width * height\n",
    "\n",
    "    #얼굴 디텍트\n",
    "    faces = face_detector(img,1)\n",
    "    \n",
    "    #디텍트 된 얼굴 수에 따른 반응 설정\n",
    "    if len(faces) >= 1:\n",
    "        print(\"얼굴 검출 성공 =>\", face_set[i])\n",
    "        for i in range(len(faces)):\n",
    "            # print(\"left, top, right, bottom : \", f.left(), f.top(), f.right(), f.bottom())\n",
    "\n",
    "            # 얼굴 크롭할 비율 정하기\n",
    "            # width = abs(faces[i].left() - faces[i].right())\n",
    "            # height = abs(faces[i].top() - faces[i].bottom())\n",
    "            # area = width * height\n",
    "            # # print('img_area',img_area)\n",
    "            # # print('area',area)\n",
    "            # # size = int((img_area/area)*3)\n",
    "            size = 0\n",
    "\n",
    "            crop = img[(faces[i].top()-size):(faces[i].bottom()+size), (faces[i].left()-size):(faces[i].right()+size)]\n",
    "            file_name = str(crop_count)+\".jpg\"\n",
    "            data_path_a = data_path + file_name\n",
    "            #이미지 크기 조정\n",
    "            crop = cv2.resize(crop, (440, 400), interpolation = cv2.INTER_CUBIC)\n",
    "            cv2.imwrite(data_path_a, crop)\n",
    "            crop_count += 1\n",
    "\n",
    "    elif len(faces) == 0:\n",
    "            print('얼굴 검출 실패 =>',face_set[i])\n",
    "            pass\n",
    "        \n",
    "print(len(face_set),'장의 사진 중',crop_count,'개의 얼굴 검출, Crop 완료')\n",
    "\n"
   ]
  },
  {
   "cell_type": "code",
   "execution_count": 106,
   "metadata": {
    "tags": []
   },
   "outputs": [],
   "source": [
    "a = cv2.imread('./Dataset/face/apink1.jpg')"
   ]
  },
  {
   "cell_type": "code",
   "execution_count": 78,
   "metadata": {
    "tags": []
   },
   "outputs": [
    {
     "output_type": "execute_result",
     "data": {
      "text/plain": "2"
     },
     "metadata": {},
     "execution_count": 78
    }
   ],
   "source": [
    "img = cv2.imread(face_set[8])\n",
    "faces = face_detector(img)\n",
    "len(faces)"
   ]
  },
  {
   "cell_type": "code",
   "execution_count": 122,
   "metadata": {
    "tags": []
   },
   "outputs": [
    {
     "output_type": "stream",
     "name": "stdout",
     "text": "얼굴 검출 성공 => ./Dataset/face\\apink1.jpg\n얼굴 검출 성공 => ./Dataset/face\\apink2.jpg\n얼굴 검출 성공 => ./Dataset/face\\golf.jpg\n얼굴 검출 성공 => ./Dataset/face\\hand1.jpg\n얼굴 검출 성공 => ./Dataset/face\\hand2.jpg\n얼굴 검출 성공 => ./Dataset/face\\kimgunwoo.jpg\n얼굴 검출 실패 => ./Dataset/face\\p1.jpg\n얼굴 검출 성공 => ./Dataset/face\\p2.jpg\n얼굴 검출 성공 => ./Dataset/face\\p3.jpg\n9장의 사진 중 14 개의 얼굴 검출, Crop 완료\n"
    }
   ],
   "source": [
    "import dlib\n",
    "import cv2\n",
    "import glob\n",
    "from PIL import Image\n",
    "import numpy as np\n",
    "\n",
    "face_detector = dlib.get_frontal_face_detector()\n",
    "crop_count = 0\n",
    "data_path = './Dataset/Train/'\n",
    "predictor_path = './shape_predictor_68_face_landmarks.dat'\n",
    "predictor = dlib.shape_predictor(predictor_path)\n",
    "\n",
    "#데이터 로드\n",
    "face_set = glob.glob('./Dataset/face/*.jpg')\n",
    "\n",
    "for i in range(len(face_set)):\n",
    "    #사이즈 비율 정하기\n",
    "    img = Image.open(face_set[i])\n",
    "    width, height = img.size\n",
    "\n",
    "    #이미지 데이터 1개씩 로드\n",
    "    img = cv2.imread(face_set[i])\n",
    "    \n",
    "    #얼굴 디텍트\n",
    "    faces = face_detector(img,1)\n",
    "    \n",
    "    #디텍트 된 얼굴 수에 따른 반응 설정\n",
    "    if len(faces) >= 1:\n",
    "        print(\"얼굴 검출 성공 =>\", face_set[i])\n",
    "        for i in range(len(faces)):\n",
    "            size = 0\n",
    "\n",
    "            crop = img[(faces[i].top()-size):(faces[i].bottom()+size), (faces[i].left()-size):(faces[i].right()+size)]\n",
    "\n",
    "                # 이제부터 인식된 얼굴 개수만큼 반복하여 얼굴 윤곽을 표시할 것이다. \n",
    "            for k, d in enumerate(faces):\n",
    "                # k 얼굴 인덱스\n",
    "                # d 얼굴 좌표\n",
    "                # print(\"Detection {}: Left: {} Top: {} Right: {} Bottom: {}\".format(\n",
    "                    # k, d.left(), d.top(), d.right(), d.bottom()))\n",
    "\n",
    "                shape = predictor(img, d)\n",
    "\n",
    "                #create list to contain landmarks\n",
    "                landmark_list = []\n",
    "\n",
    "                # append (x, y) in landmark_list\n",
    "                for p in shape.parts():\n",
    "                    landmark_list.append([p.x, p.y])\n",
    "                    cv2.circle(img, (p.x, p.y), 1, (0, 255, 0), -1)\n",
    "\n",
    "\n",
    "                file_name = str(crop_count)+\".jpg\"\n",
    "                data_path_a = data_path + file_name\n",
    "                #이미지 크기 조정\n",
    "                # # crop = np.array(crop, dtype=\"uint8\")\n",
    "                # # crop = crop.astype(\"uint8\")\n",
    "                # # crop = np.uint8(crop*255) \n",
    "                # print(type(crop),\"type(crop)\")\n",
    "                # # print(crop,\"crop\")\n",
    "                # print(len(crop),\"len(crop)\")\n",
    "                \n",
    "                crop = cv2.resize(crop, (440, 400), interpolation = cv2.INTER_AREA)\n",
    "                \n",
    "                \n",
    "\n",
    "            cv2.imwrite(data_path_a, crop)\n",
    "            crop_count += 1\n",
    "\n",
    "    elif len(faces) == 0:\n",
    "            print('얼굴 검출 실패 =>',face_set[i])\n",
    "            pass\n",
    "    \n",
    "print(len(face_set),'장의 사진 중',crop_count,'개의 얼굴 검출, Crop 완료')\n",
    "\n"
   ]
  },
  {
   "cell_type": "code",
   "execution_count": 117,
   "metadata": {},
   "outputs": [
    {
     "output_type": "execute_result",
     "data": {
      "text/plain": "rectangles[[(-10, 336) (59, 398)], [(190, 101) (252, 163)], [(504, 280) (556, 331)], [(463, 683) (515, 735)], [(809, 182) (845, 218)]]"
     },
     "metadata": {},
     "execution_count": 117
    }
   ],
   "source": [
    "faces"
   ]
  },
  {
   "cell_type": "code",
   "execution_count": 58,
   "metadata": {},
   "outputs": [
    {
     "output_type": "execute_result",
     "data": {
      "text/plain": "398"
     },
     "metadata": {},
     "execution_count": 58
    }
   ],
   "source": [
    "d.bottom()"
   ]
  },
  {
   "cell_type": "code",
   "execution_count": null,
   "metadata": {},
   "outputs": [],
   "source": []
  },
  {
   "cell_type": "code",
   "execution_count": 59,
   "metadata": {},
   "outputs": [
    {
     "output_type": "execute_result",
     "data": {
      "text/plain": "-10"
     },
     "metadata": {},
     "execution_count": 59
    }
   ],
   "source": [
    "d.left()"
   ]
  },
  {
   "cell_type": "code",
   "execution_count": 60,
   "metadata": {},
   "outputs": [
    {
     "output_type": "execute_result",
     "data": {
      "text/plain": "59"
     },
     "metadata": {},
     "execution_count": 60
    }
   ],
   "source": [
    "d.right()"
   ]
  },
  {
   "cell_type": "code",
   "execution_count": 66,
   "metadata": {},
   "outputs": [
    {
     "output_type": "execute_result",
     "data": {
      "text/plain": "numpy.ndarray"
     },
     "metadata": {},
     "execution_count": 66
    }
   ],
   "source": [
    "crop = img[336:398,-10:59]\n",
    "type(crop)"
   ]
  },
  {
   "cell_type": "code",
   "execution_count": 64,
   "metadata": {},
   "outputs": [
    {
     "output_type": "execute_result",
     "data": {
      "text/plain": "array([], shape=(62, 0, 3), dtype=uint8)"
     },
     "metadata": {},
     "execution_count": 64
    }
   ],
   "source": [
    "crop"
   ]
  },
  {
   "cell_type": "code",
   "execution_count": 63,
   "metadata": {},
   "outputs": [
    {
     "output_type": "error",
     "ename": "error",
     "evalue": "OpenCV(4.3.0) C:\\projects\\opencv-python\\opencv\\modules\\imgproc\\src\\resize.cpp:3929: error: (-215:Assertion failed) !ssize.empty() in function 'cv::resize'\n",
     "traceback": [
      "\u001b[1;31m---------------------------------------------------------------------------\u001b[0m",
      "\u001b[1;31merror\u001b[0m                                     Traceback (most recent call last)",
      "\u001b[1;32m<ipython-input-63-c4ca6473168f>\u001b[0m in \u001b[0;36m<module>\u001b[1;34m\u001b[0m\n\u001b[1;32m----> 1\u001b[1;33m \u001b[0mcrop\u001b[0m \u001b[1;33m=\u001b[0m \u001b[0mcv2\u001b[0m\u001b[1;33m.\u001b[0m\u001b[0mresize\u001b[0m\u001b[1;33m(\u001b[0m\u001b[0mcrop\u001b[0m\u001b[1;33m,\u001b[0m \u001b[1;33m(\u001b[0m\u001b[1;36m440\u001b[0m\u001b[1;33m,\u001b[0m \u001b[1;36m400\u001b[0m\u001b[1;33m)\u001b[0m\u001b[1;33m,\u001b[0m \u001b[0minterpolation\u001b[0m \u001b[1;33m=\u001b[0m \u001b[0mcv2\u001b[0m\u001b[1;33m.\u001b[0m\u001b[0mINTER_AREA\u001b[0m\u001b[1;33m)\u001b[0m\u001b[1;33m\u001b[0m\u001b[1;33m\u001b[0m\u001b[0m\n\u001b[0m",
      "\u001b[1;31merror\u001b[0m: OpenCV(4.3.0) C:\\projects\\opencv-python\\opencv\\modules\\imgproc\\src\\resize.cpp:3929: error: (-215:Assertion failed) !ssize.empty() in function 'cv::resize'\n"
     ]
    }
   ],
   "source": [
    "crop = cv2.resize(crop, (440, 400), interpolation = cv2.INTER_AREA)"
   ]
  },
  {
   "cell_type": "code",
   "execution_count": null,
   "metadata": {},
   "outputs": [],
   "source": []
  }
 ],
 "metadata": {
  "kernelspec": {
   "name": "python361064bittarocatconda1728d964b65b467cac41ed427c5dc19b",
   "display_name": "Python 3.6.10 64-bit ('tarocat': conda)"
  }
 },
 "nbformat": 4,
 "nbformat_minor": 4
}