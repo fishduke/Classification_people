{
 "cells": [
  {
   "cell_type": "code",
   "execution_count": 2,
   "metadata": {
    "tags": []
   },
   "outputs": [
    {
     "output_type": "stream",
     "name": "stdout",
     "text": "left, top, right, bottom :  520 281 735 496\n"
    },
    {
     "output_type": "execute_result",
     "data": {
      "text/plain": "True"
     },
     "metadata": {},
     "execution_count": 2
    }
   ],
   "source": [
    "import dlib\n",
    "import cv2\n",
    "face_detector = dlib.get_frontal_face_detector()\n",
    "img = cv2.imread('./Dataset/face/hand1.jpg')\n",
    "# img = cv2.cvtColor(img, cv2.COLOR_BGR2RGB)\n",
    "faces = face_detector(img)\n",
    "size = 80\n",
    "\n",
    "# print(\"{} faces are detected.\".format(len(faces)))\n",
    "for f in faces:\n",
    "    print(\"left, top, right, bottom : \", f.left(), f.top(), f.right(), f.bottom())\n",
    "    # cv2.rectangle(img, (f.left(), f.top()), (f.right(), f.bottom()), (0,0,255),2)\n",
    "    cv2.rectangle(img, ((f.left()-size), (f.top()-size)), ((f.right()+size),(f.bottom()+size)), (0,0,255),2)\n",
    "\n",
    "# win = dlib.image_window()\n",
    "# win.set_image(img)\n",
    "# win.add_overlay(faces)\n",
    "\n",
    "crop = img[(f.top()-size):(f.bottom()+size), (f.left()-size):(f.right()+size)]\n",
    "cv2.imwrite(\"output.jpg\", crop, [cv2.IMWRITE_JPEG_QUALITY, 80])"
   ]
  },
  {
   "cell_type": "code",
   "execution_count": 56,
   "metadata": {
    "tags": []
   },
   "outputs": [
    {
     "output_type": "stream",
     "name": "stdout",
     "text": "3 장의 사진 중 2 장의 얼굴 사진 Crop 완료\n"
    }
   ],
   "source": [
    "import dlib\n",
    "import cv2\n",
    "import glob\n",
    "\n",
    "face_detector = dlib.get_frontal_face_detector()\n",
    "size = 60\n",
    "crop_count = 0\n",
    "\n",
    "face_set = glob.glob('./Dataset/face/*.jpg')\n",
    "\n",
    "# img = cv2.imread('./Dataset/face/hand1.jpg')\n",
    "for i in range(len(face_set)):\n",
    "    img = cv2.imread(face_set[i])\n",
    "    faces = face_detector(img)\n",
    "\n",
    "    if len(faces) != 0:\n",
    "        for f in faces:\n",
    "            # print(\"left, top, right, bottom : \", f.left(), f.top(), f.right(), f.bottom())\n",
    "            crop = img[(f.top()-size):(f.bottom()+size), (f.left()-size):(f.right()+size)]\n",
    "            cv2.imwrite(\"output.jpg\", crop, [cv2.IMWRITE_JPEG_QUALITY, 80])\n",
    "            crop_count += 1\n",
    "print(len(face_set),'장의 사진 중',crop_count,'장의 얼굴 사진 Crop 완료')\n",
    "\n"
   ]
  },
  {
   "cell_type": "code",
   "execution_count": null,
   "metadata": {},
   "outputs": [],
   "source": []
  }
 ],
 "metadata": {
  "kernelspec": {
   "name": "python361064bittarocatconda1728d964b65b467cac41ed427c5dc19b",
   "display_name": "Python 3.6.10 64-bit ('tarocat': conda)"
  }
 },
 "nbformat": 4,
 "nbformat_minor": 4
}