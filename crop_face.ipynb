{
 "cells": [
  {
   "cell_type": "code",
   "execution_count": 118,
   "metadata": {
    "tags": []
   },
   "outputs": [
    {
     "output_type": "stream",
     "name": "stdout",
     "text": "left, top, right, bottom :  221 109 293 181\n"
    },
    {
     "output_type": "execute_result",
     "data": {
      "text/plain": "True"
     },
     "metadata": {},
     "execution_count": 118
    }
   ],
   "source": [
    "import dlib\n",
    "import cv2\n",
    "face_detector = dlib.get_frontal_face_detector()\n",
    "img = cv2.imread('./Dataset/face/hand2.jpg')\n",
    "# img = cv2.cvtColor(img, cv2.COLOR_BGR2RGB)\n",
    "faces = face_detector(img)\n",
    "size = 80\n",
    "\n",
    "# print(\"{} faces are detected.\".format(len(faces)))\n",
    "for f in faces:\n",
    "    print(\"left, top, right, bottom : \", f.left(), f.top(), f.right(), f.bottom())\n",
    "    # cv2.rectangle(img, (f.left(), f.top()), (f.right(), f.bottom()), (0,0,255),2)\n",
    "    cv2.rectangle(img, ((f.left()-size), (f.top()-size)), ((f.right()+size),(f.bottom()+size)), (0,0,255),2)\n",
    "\n",
    "# win = dlib.image_window()\n",
    "# win.set_image(img)\n",
    "# win.add_overlay(faces)\n",
    "\n",
    "crop = img[(f.top()-size):(f.bottom()+size), (f.left()-size):(f.right()+size)]\n",
    "cv2.imwrite(\"output.jpg\", crop, [cv2.IMWRITE_JPEG_QUALITY, 80])"
   ]
  },
  {
   "cell_type": "code",
   "execution_count": 1,
   "metadata": {
    "tags": []
   },
   "outputs": [
    {
     "output_type": "stream",
     "name": "stdout",
     "text": "얼굴 검출 성공 => ./Dataset/face\\apink1.jpg\n얼굴 검출 성공 => ./Dataset/face\\apink2.jpg\n얼굴 검출 성공 => ./Dataset/face\\golf.jpg\n얼굴 검출 성공 => ./Dataset/face\\hand1.jpg\n얼굴 검출 성공 => ./Dataset/face\\hand2.jpg\n얼굴 검출 성공 => ./Dataset/face\\kimgunwoo.jpg\n얼굴 검출 실패 => ./Dataset/face\\p1.jpg\n얼굴 검출 성공 => ./Dataset/face\\p2.jpg\n얼굴 검출 성공 => ./Dataset/face\\p3.jpg\n9 장의 사진 중 14 개의 얼굴 검출, Crop 완료\n"
    }
   ],
   "source": [
    "import dlib\n",
    "import cv2\n",
    "import glob\n",
    "from PIL import Image\n",
    "\n",
    "face_detector = dlib.get_frontal_face_detector()\n",
    "crop_count = 0\n",
    "data_path = './Dataset/Train/'\n",
    "\n",
    "#데이터 로드\n",
    "face_set = glob.glob('./Dataset/face/*.jpg')\n",
    "\n",
    "# img = cv2.imread('./Dataset/face/hand1.jpg')\n",
    "for i in range(len(face_set)):\n",
    "    #사이즈 비율 정하기\n",
    "    img = Image.open(face_set[i])\n",
    "    width, height = img.size\n",
    "\n",
    "    #이미지 데이터 1개씩 로드\n",
    "    img = cv2.imread(face_set[i])\n",
    "    img_area = width * height\n",
    "\n",
    "    #얼굴 디텍트\n",
    "    faces = face_detector(img,1)\n",
    "    \n",
    "    #디텍트 된 얼굴 수에 따른 반응 설정\n",
    "    if len(faces) >= 1:\n",
    "        print(\"얼굴 검출 성공 =>\", face_set[i])\n",
    "        for i in range(len(faces)):\n",
    "            # print(\"left, top, right, bottom : \", f.left(), f.top(), f.right(), f.bottom())\n",
    "\n",
    "            # 얼굴 크롭할 비율 정하기\n",
    "            # width = abs(faces[i].left() - faces[i].right())\n",
    "            # height = abs(faces[i].top() - faces[i].bottom())\n",
    "            # area = width * height\n",
    "            # # print('img_area',img_area)\n",
    "            # # print('area',area)\n",
    "            # # size = int((img_area/area)*3)\n",
    "            size = 0\n",
    "\n",
    "            crop = img[(faces[i].top()-size):(faces[i].bottom()+size), (faces[i].left()-size):(faces[i].right()+size)]\n",
    "            file_name = str(crop_count)+\".jpg\"\n",
    "            data_path_a = data_path + file_name\n",
    "            #이미지 크기 조정\n",
    "            crop = cv2.resize(crop, (440, 400), interpolation = cv2.INTER_CUBIC)\n",
    "            cv2.imwrite(data_path_a, crop)\n",
    "            crop_count += 1\n",
    "\n",
    "    elif len(faces) == 0:\n",
    "            print('얼굴 검출 실패 =>',face_set[i])\n",
    "            pass\n",
    "        \n",
    "print(len(face_set),'장의 사진 중',crop_count,'개의 얼굴 검출, Crop 완료')\n",
    "\n"
   ]
  },
  {
   "cell_type": "code",
   "execution_count": 106,
   "metadata": {
    "tags": []
   },
   "outputs": [],
   "source": [
    "a = cv2.imread('./Dataset/face/apink1.jpg')"
   ]
  },
  {
   "cell_type": "code",
   "execution_count": 78,
   "metadata": {
    "tags": []
   },
   "outputs": [
    {
     "output_type": "execute_result",
     "data": {
      "text/plain": "2"
     },
     "metadata": {},
     "execution_count": 78
    }
   ],
   "source": [
    "img = cv2.imread(face_set[8])\n",
    "faces = face_detector(img)\n",
    "len(faces)"
   ]
  },
  {
   "cell_type": "code",
   "execution_count": 138,
   "metadata": {
    "tags": []
   },
   "outputs": [
    {
     "output_type": "stream",
     "name": "stdout",
     "text": "얼굴 검출 성공 => ./Dataset/face\\apink1.jpg\nDetection 0: Left: 227 Top: 101 Right: 279 Bottom: 153\nPart 0: (230, 116), Part 1: (230, 122) ...\n얼굴 검출 성공 => ./Dataset/face\\apink2.jpg\nDetection 0: Left: 262 Top: 72 Right: 337 Bottom: 146\nPart 0: (274, 77), Part 1: (270, 85) ...\nDetection 1: Left: 695 Top: 211 Right: 757 Bottom: 274\nPart 0: (691, 233), Part 1: (690, 241) ...\nDetection 2: Left: 11 Top: 260 Right: 73 Bottom: 322\nPart 0: (5, 282), Part 1: (6, 290) ...\nDetection 3: Left: 463 Top: 190 Right: 506 Bottom: 233\nPart 0: (464, 207), Part 1: (464, 212) ...\nDetection 0: Left: 262 Top: 72 Right: 337 Bottom: 146\nPart 0: (274, 77), Part 1: (270, 86) ...\nDetection 1: Left: 695 Top: 211 Right: 757 Bottom: 274\nPart 0: (691, 233), Part 1: (691, 241) ...\nDetection 2: Left: 11 Top: 260 Right: 73 Bottom: 322\nPart 0: (6, 281), Part 1: (6, 290) ...\nDetection 3: Left: 463 Top: 190 Right: 506 Bottom: 233\nPart 0: (464, 206), Part 1: (463, 211) ...\nDetection 0: Left: 262 Top: 72 Right: 337 Bottom: 146\nPart 0: (274, 77), Part 1: (271, 86) ...\nDetection 1: Left: 695 Top: 211 Right: 757 Bottom: 274\nPart 0: (692, 233), Part 1: (692, 241) ...\nDetection 2: Left: 11 Top: 260 Right: 73 Bottom: 322\nPart 0: (5, 281), Part 1: (6, 289) ...\nDetection 3: Left: 463 Top: 190 Right: 506 Bottom: 233\nPart 0: (463, 204), Part 1: (463, 210) ...\nDetection 0: Left: 262 Top: 72 Right: 337 Bottom: 146\nPart 0: (272, 79), Part 1: (269, 88) ...\nDetection 1: Left: 695 Top: 211 Right: 757 Bottom: 274\nPart 0: (692, 233), Part 1: (692, 241) ...\nDetection 2: Left: 11 Top: 260 Right: 73 Bottom: 322\nPart 0: (6, 282), Part 1: (7, 290) ...\nDetection 3: Left: 463 Top: 190 Right: 506 Bottom: 233\nPart 0: (464, 204), Part 1: (463, 210) ...\n얼굴 검출 성공 => ./Dataset/face\\golf.jpg\nDetection 0: Left: 508 Top: 377 Right: 570 Bottom: 440\nPart 0: (501, 388), Part 1: (500, 397) ...\n얼굴 검출 성공 => ./Dataset/face\\hand1.jpg\nDetection 0: Left: 513 Top: 291 Right: 736 Bottom: 514\nPart 0: (520, 357), Part 1: (524, 383) ...\n얼굴 검출 성공 => ./Dataset/face\\hand2.jpg\nDetection 0: Left: 225 Top: 115 Right: 287 Bottom: 177\nPart 0: (236, 138), Part 1: (235, 144) ...\n얼굴 검출 성공 => ./Dataset/face\\kimgunwoo.jpg\nDetection 0: Left: 96 Top: 116 Right: 185 Bottom: 206\nPart 0: (83, 139), Part 1: (85, 153) ...\n얼굴 검출 실패 => ./Dataset/face\\p1.jpg\n얼굴 검출 성공 => ./Dataset/face\\p2.jpg\nDetection 0: Left: 325 Top: 61 Right: 377 Bottom: 113\nPart 0: (330, 79), Part 1: (330, 85) ...\nDetection 1: Left: 112 Top: 60 Right: 156 Bottom: 103\nPart 0: (112, 74), Part 1: (113, 79) ...\nDetection 0: Left: 325 Top: 61 Right: 377 Bottom: 113\nPart 0: (331, 80), Part 1: (331, 85) ...\nDetection 1: Left: 112 Top: 60 Right: 156 Bottom: 103\nPart 0: (113, 73), Part 1: (114, 78) ...\n얼굴 검출 성공 => ./Dataset/face\\p3.jpg\nDetection 0: Left: 129 Top: 170 Right: 181 Bottom: 222\nPart 0: (124, 191), Part 1: (125, 199) ...\nDetection 1: Left: 262 Top: 90 Right: 314 Bottom: 141\nPart 0: (266, 104), Part 1: (267, 110) ...\nDetection 2: Left: 406 Top: 182 Right: 458 Bottom: 234\nPart 0: (412, 199), Part 1: (412, 205) ...\nDetection 0: Left: 129 Top: 170 Right: 181 Bottom: 222\nPart 0: (124, 192), Part 1: (125, 199) ...\nDetection 1: Left: 262 Top: 90 Right: 314 Bottom: 141\nPart 0: (266, 104), Part 1: (267, 110) ...\nDetection 2: Left: 406 Top: 182 Right: 458 Bottom: 234\nPart 0: (412, 200), Part 1: (412, 205) ...\nDetection 0: Left: 129 Top: 170 Right: 181 Bottom: 222\nPart 0: (125, 191), Part 1: (125, 198) ...\nDetection 1: Left: 262 Top: 90 Right: 314 Bottom: 141\nPart 0: (266, 105), Part 1: (266, 111) ...\nDetection 2: Left: 406 Top: 182 Right: 458 Bottom: 234\nPart 0: (412, 201), Part 1: (412, 206) ...\n9 장의 사진 중 14 개의 얼굴 검출, Crop 완료\n"
    }
   ],
   "source": [
    "import dlib\n",
    "import cv2\n",
    "import glob\n",
    "from PIL import Image\n",
    "import numpy as np\n",
    "\n",
    "face_detector = dlib.get_frontal_face_detector()\n",
    "crop_count = 0\n",
    "data_path = './Dataset/Train/'\n",
    "predictor_path = './shape_predictor_68_face_landmarks.dat'\n",
    "predictor = dlib.shape_predictor(predictor_path)\n",
    "\n",
    "#데이터 로드\n",
    "face_set = glob.glob('./Dataset/face/*.jpg')\n",
    "\n",
    "for i in range(len(face_set)):\n",
    "    #사이즈 비율 정하기\n",
    "    img = Image.open(face_set[i])\n",
    "    width, height = img.size\n",
    "\n",
    "    #이미지 데이터 1개씩 로드\n",
    "    img = cv2.imread(face_set[i])\n",
    "    \n",
    "    #얼굴 디텍트\n",
    "    faces = face_detector(img,1)\n",
    "    \n",
    "    #디텍트 된 얼굴 수에 따른 반응 설정\n",
    "    if len(faces) >= 1:\n",
    "        print(\"얼굴 검출 성공 =>\", face_set[i])\n",
    "        for i in range(len(faces)):\n",
    "            size = 0\n",
    "\n",
    "            crop = img[(faces[i].top()-size):(faces[i].bottom()+size), (faces[i].left()-size):(faces[i].right()+size)]\n",
    "\n",
    "                # 이제부터 인식된 얼굴 개수만큼 반복하여 얼굴 윤곽을 표시할 것이다. \n",
    "            for k, d in enumerate(faces):\n",
    "                # k 얼굴 인덱스\n",
    "                # d 얼굴 좌표\n",
    "                print(\"Detection {}: Left: {} Top: {} Right: {} Bottom: {}\".format(k, d.left(), d.top(), d.right(), d.bottom()))\n",
    "\n",
    "                shape = predictor(img, d)\n",
    "                print(\"Part 0: {}, Part 1: {} ...\".format(shape.part(0),shape.part(1)))\n",
    "\n",
    "\n",
    "                #create list to contain landmarks\n",
    "                landmark_list = []\n",
    "\n",
    "                # append (x, y) in landmark_list\n",
    "                for p in shape.parts():\n",
    "                    landmark_list.append([p.x, p.y])\n",
    "                    if p == shape.parts()[33]:\n",
    "                        cv2.circle(img, (p.x, p.y), 1, (0, 0, 255), -1)\n",
    "                    else:\n",
    "                        cv2.circle(img, (p.x, p.y), 1, (0, 255, 0), -1)\n",
    "\n",
    "                file_name = str(crop_count)+\".jpg\"\n",
    "                data_path_a = data_path + file_name\n",
    "                crop = cv2.resize(crop, (440, 400), interpolation = cv2.INTER_AREA)\n",
    "\n",
    "            cv2.imwrite(data_path_a, crop)\n",
    "            crop_count += 1\n",
    "\n",
    "    elif len(faces) == 0:\n",
    "            print('얼굴 검출 실패 =>',face_set[i])\n",
    "            pass\n",
    "    \n",
    "print(len(face_set),'장의 사진 중',crop_count,'개의 얼굴 검출, Crop 완료')"
   ]
  },
  {
   "cell_type": "code",
   "execution_count": 157,
   "metadata": {},
   "outputs": [],
   "source": [
    "p = shape.parts()[67]"
   ]
  },
  {
   "cell_type": "code",
   "execution_count": 177,
   "metadata": {},
   "outputs": [],
   "source": [
    "import copy\n",
    "p = shape.parts()[67]\n",
    "b = copy.deepcopy(p)"
   ]
  },
  {
   "cell_type": "code",
   "execution_count": 182,
   "metadata": {},
   "outputs": [
    {
     "output_type": "execute_result",
     "data": {
      "text/plain": "_dlib_pybind11.point"
     },
     "metadata": {},
     "execution_count": 182
    }
   ],
   "source": [
    "type(p)"
   ]
  },
  {
   "cell_type": "code",
   "execution_count": 183,
   "metadata": {},
   "outputs": [
    {
     "output_type": "execute_result",
     "data": {
      "text/plain": "['__add__',\n '__class__',\n '__delattr__',\n '__dir__',\n '__doc__',\n '__eq__',\n '__format__',\n '__ge__',\n '__getattribute__',\n '__getstate__',\n '__gt__',\n '__hash__',\n '__init__',\n '__init_subclass__',\n '__le__',\n '__lt__',\n '__module__',\n '__mul__',\n '__ne__',\n '__new__',\n '__reduce__',\n '__reduce_ex__',\n '__repr__',\n '__rmul__',\n '__setattr__',\n '__setstate__',\n '__sizeof__',\n '__str__',\n '__sub__',\n '__subclasshook__',\n '__truediv__',\n 'normalize',\n 'x',\n 'y']"
     },
     "metadata": {},
     "execution_count": 183
    }
   ],
   "source": [
    "dir(p)"
   ]
  },
  {
   "cell_type": "code",
   "execution_count": 180,
   "metadata": {},
   "outputs": [
    {
     "output_type": "execute_result",
     "data": {
      "text/plain": "1778825987160"
     },
     "metadata": {},
     "execution_count": 180
    }
   ],
   "source": [
    "id(b)"
   ]
  },
  {
   "cell_type": "code",
   "execution_count": null,
   "metadata": {},
   "outputs": [],
   "source": []
  }
 ],
 "metadata": {
  "kernelspec": {
   "name": "python361064bittarocatconda1728d964b65b467cac41ed427c5dc19b",
   "display_name": "Python 3.6.10 64-bit ('tarocat': conda)"
  }
 },
 "nbformat": 4,
 "nbformat_minor": 4
}