{
 "cells": [
  {
   "cell_type": "code",
   "execution_count": 118,
   "metadata": {
    "tags": []
   },
   "outputs": [
    {
     "output_type": "stream",
     "name": "stdout",
     "text": "left, top, right, bottom :  221 109 293 181\n"
    },
    {
     "output_type": "execute_result",
     "data": {
      "text/plain": "True"
     },
     "metadata": {},
     "execution_count": 118
    }
   ],
   "source": [
    "import dlib\n",
    "import cv2\n",
    "face_detector = dlib.get_frontal_face_detector()\n",
    "img = cv2.imread('./Dataset/face/hand2.jpg')\n",
    "# img = cv2.cvtColor(img, cv2.COLOR_BGR2RGB)\n",
    "faces = face_detector(img)\n",
    "size = 80\n",
    "\n",
    "# print(\"{} faces are detected.\".format(len(faces)))\n",
    "for f in faces:\n",
    "    print(\"left, top, right, bottom : \", f.left(), f.top(), f.right(), f.bottom())\n",
    "    # cv2.rectangle(img, (f.left(), f.top()), (f.right(), f.bottom()), (0,0,255),2)\n",
    "    cv2.rectangle(img, ((f.left()-size), (f.top()-size)), ((f.right()+size),(f.bottom()+size)), (0,0,255),2)\n",
    "\n",
    "# win = dlib.image_window()\n",
    "# win.set_image(img)\n",
    "# win.add_overlay(faces)\n",
    "\n",
    "crop = img[(f.top()-size):(f.bottom()+size), (f.left()-size):(f.right()+size)]\n",
    "cv2.imwrite(\"output.jpg\", crop, [cv2.IMWRITE_JPEG_QUALITY, 80])"
   ]
  },
  {
   "cell_type": "code",
   "execution_count": 1,
   "metadata": {
    "tags": []
   },
   "outputs": [
    {
     "output_type": "stream",
     "name": "stdout",
     "text": "얼굴 검출 성공 => ./Dataset/face\\apink1.jpg\n얼굴 검출 성공 => ./Dataset/face\\apink2.jpg\n얼굴 검출 성공 => ./Dataset/face\\golf.jpg\n얼굴 검출 성공 => ./Dataset/face\\hand1.jpg\n얼굴 검출 성공 => ./Dataset/face\\hand2.jpg\n얼굴 검출 성공 => ./Dataset/face\\kimgunwoo.jpg\n얼굴 검출 실패 => ./Dataset/face\\p1.jpg\n얼굴 검출 성공 => ./Dataset/face\\p2.jpg\n얼굴 검출 성공 => ./Dataset/face\\p3.jpg\n9 장의 사진 중 14 개의 얼굴 검출, Crop 완료\n"
    }
   ],
   "source": [
    "import dlib\n",
    "import cv2\n",
    "import glob\n",
    "from PIL import Image\n",
    "\n",
    "face_detector = dlib.get_frontal_face_detector()\n",
    "crop_count = 0\n",
    "data_path = './Dataset/Train/'\n",
    "\n",
    "#데이터 로드\n",
    "face_set = glob.glob('./Dataset/face/*.jpg')\n",
    "\n",
    "# img = cv2.imread('./Dataset/face/hand1.jpg')\n",
    "for i in range(len(face_set)):\n",
    "    #사이즈 비율 정하기\n",
    "    img = Image.open(face_set[i])\n",
    "    width, height = img.size\n",
    "\n",
    "    #이미지 데이터 1개씩 로드\n",
    "    img = cv2.imread(face_set[i])\n",
    "    img_area = width * height\n",
    "\n",
    "    #얼굴 디텍트\n",
    "    faces = face_detector(img,1)\n",
    "    \n",
    "    #디텍트 된 얼굴 수에 따른 반응 설정\n",
    "    if len(faces) >= 1:\n",
    "        print(\"얼굴 검출 성공 =>\", face_set[i])\n",
    "        for i in range(len(faces)):\n",
    "            # print(\"left, top, right, bottom : \", f.left(), f.top(), f.right(), f.bottom())\n",
    "\n",
    "            # 얼굴 크롭할 비율 정하기\n",
    "            # width = abs(faces[i].left() - faces[i].right())\n",
    "            # height = abs(faces[i].top() - faces[i].bottom())\n",
    "            # area = width * height\n",
    "            # # print('img_area',img_area)\n",
    "            # # print('area',area)\n",
    "            # # size = int((img_area/area)*3)\n",
    "            size = 0\n",
    "\n",
    "            crop = img[(faces[i].top()-size):(faces[i].bottom()+size), (faces[i].left()-size):(faces[i].right()+size)]\n",
    "            file_name = str(crop_count)+\".jpg\"\n",
    "            data_path_a = data_path + file_name\n",
    "            #이미지 크기 조정\n",
    "            crop = cv2.resize(crop, (440, 400), interpolation = cv2.INTER_CUBIC)\n",
    "            cv2.imwrite(data_path_a, crop)\n",
    "            crop_count += 1\n",
    "\n",
    "    elif len(faces) == 0:\n",
    "            print('얼굴 검출 실패 =>',face_set[i])\n",
    "            pass\n",
    "        \n",
    "print(len(face_set),'장의 사진 중',crop_count,'개의 얼굴 검출, Crop 완료')\n",
    "\n"
   ]
  },
  {
   "cell_type": "code",
   "execution_count": 106,
   "metadata": {
    "tags": []
   },
   "outputs": [],
   "source": [
    "a = cv2.imread('./Dataset/face/apink1.jpg')"
   ]
  },
  {
   "cell_type": "code",
   "execution_count": 78,
   "metadata": {
    "tags": []
   },
   "outputs": [
    {
     "output_type": "execute_result",
     "data": {
      "text/plain": "2"
     },
     "metadata": {},
     "execution_count": 78
    }
   ],
   "source": [
    "img = cv2.imread(face_set[8])\n",
    "faces = face_detector(img)\n",
    "len(faces)"
   ]
  },
  {
   "cell_type": "code",
   "execution_count": 250,
   "metadata": {
    "tags": []
   },
   "outputs": [
    {
     "output_type": "stream",
     "name": "stdout",
     "text": "얼굴 검출 성공 => ./Dataset/face\\apink1.jpg\nDetection 0: Left: 227 Top: 101 Right: 279 Bottom: 153\nPart 0: (230, 116), Part 1: (230, 122) ...\n얼굴 검출 성공 => ./Dataset/face\\apink2.jpg\nDetection 0: Left: 262 Top: 72 Right: 337 Bottom: 146\nPart 0: (274, 77), Part 1: (270, 85) ...\nDetection 1: Left: 695 Top: 211 Right: 757 Bottom: 274\nPart 0: (691, 233), Part 1: (690, 241) ...\nDetection 2: Left: 11 Top: 260 Right: 73 Bottom: 322\nPart 0: (5, 282), Part 1: (6, 290) ...\nDetection 3: Left: 463 Top: 190 Right: 506 Bottom: 233\nPart 0: (464, 207), Part 1: (464, 212) ...\nDetection 0: Left: 262 Top: 72 Right: 337 Bottom: 146\nPart 0: (274, 77), Part 1: (270, 86) ...\nDetection 1: Left: 695 Top: 211 Right: 757 Bottom: 274\nPart 0: (691, 233), Part 1: (691, 241) ...\nDetection 2: Left: 11 Top: 260 Right: 73 Bottom: 322\nPart 0: (6, 281), Part 1: (6, 290) ...\nDetection 3: Left: 463 Top: 190 Right: 506 Bottom: 233\nPart 0: (464, 206), Part 1: (463, 211) ...\nDetection 0: Left: 262 Top: 72 Right: 337 Bottom: 146\nPart 0: (274, 77), Part 1: (271, 86) ...\nDetection 1: Left: 695 Top: 211 Right: 757 Bottom: 274\nPart 0: (692, 233), Part 1: (692, 241) ...\nDetection 2: Left: 11 Top: 260 Right: 73 Bottom: 322\nPart 0: (5, 281), Part 1: (6, 289) ...\nDetection 3: Left: 463 Top: 190 Right: 506 Bottom: 233\nPart 0: (463, 204), Part 1: (463, 210) ...\nDetection 0: Left: 262 Top: 72 Right: 337 Bottom: 146\nPart 0: (272, 79), Part 1: (269, 88) ...\nDetection 1: Left: 695 Top: 211 Right: 757 Bottom: 274\nPart 0: (692, 233), Part 1: (692, 241) ...\nDetection 2: Left: 11 Top: 260 Right: 73 Bottom: 322\nPart 0: (6, 282), Part 1: (7, 290) ...\nDetection 3: Left: 463 Top: 190 Right: 506 Bottom: 233\nPart 0: (464, 204), Part 1: (463, 210) ...\n얼굴 검출 성공 => ./Dataset/face\\golf.jpg\nDetection 0: Left: 508 Top: 377 Right: 570 Bottom: 440\nPart 0: (501, 388), Part 1: (500, 397) ...\n얼굴 검출 성공 => ./Dataset/face\\hand1.jpg\nDetection 0: Left: 513 Top: 291 Right: 736 Bottom: 514\nPart 0: (520, 357), Part 1: (524, 383) ...\n얼굴 검출 성공 => ./Dataset/face\\hand2.jpg\nDetection 0: Left: 225 Top: 115 Right: 287 Bottom: 177\nPart 0: (236, 138), Part 1: (235, 144) ...\n얼굴 검출 성공 => ./Dataset/face\\kimgunwoo.jpg\nDetection 0: Left: 96 Top: 116 Right: 185 Bottom: 206\nPart 0: (83, 139), Part 1: (85, 153) ...\n얼굴 검출 실패 => ./Dataset/face\\p1.jpg\n얼굴 검출 성공 => ./Dataset/face\\p2.jpg\nDetection 0: Left: 325 Top: 61 Right: 377 Bottom: 113\nPart 0: (330, 79), Part 1: (330, 85) ...\nDetection 1: Left: 112 Top: 60 Right: 156 Bottom: 103\nPart 0: (112, 74), Part 1: (113, 79) ...\nDetection 0: Left: 325 Top: 61 Right: 377 Bottom: 113\nPart 0: (331, 80), Part 1: (331, 85) ...\nDetection 1: Left: 112 Top: 60 Right: 156 Bottom: 103\nPart 0: (113, 73), Part 1: (114, 78) ...\n얼굴 검출 성공 => ./Dataset/face\\p3.jpg\nDetection 0: Left: 129 Top: 170 Right: 181 Bottom: 222\nPart 0: (124, 191), Part 1: (125, 199) ...\nDetection 1: Left: 262 Top: 90 Right: 314 Bottom: 141\nPart 0: (266, 104), Part 1: (267, 110) ...\nDetection 2: Left: 406 Top: 182 Right: 458 Bottom: 234\nPart 0: (412, 199), Part 1: (412, 205) ...\nDetection 0: Left: 129 Top: 170 Right: 181 Bottom: 222\nPart 0: (124, 192), Part 1: (125, 199) ...\nDetection 1: Left: 262 Top: 90 Right: 314 Bottom: 141\nPart 0: (266, 104), Part 1: (267, 110) ...\nDetection 2: Left: 406 Top: 182 Right: 458 Bottom: 234\nPart 0: (412, 200), Part 1: (412, 205) ...\nDetection 0: Left: 129 Top: 170 Right: 181 Bottom: 222\nPart 0: (125, 191), Part 1: (125, 198) ...\nDetection 1: Left: 262 Top: 90 Right: 314 Bottom: 141\nPart 0: (266, 105), Part 1: (266, 111) ...\nDetection 2: Left: 406 Top: 182 Right: 458 Bottom: 234\nPart 0: (412, 201), Part 1: (412, 206) ...\n9 장의 사진 중 14 개의 얼굴 검출, Crop 완료\n"
    }
   ],
   "source": [
    "import dlib\n",
    "import cv2\n",
    "import glob\n",
    "from PIL import Image, ImageOps\n",
    "import numpy as np\n",
    "\n",
    "face_detector = dlib.get_frontal_face_detector()\n",
    "crop_count = 0\n",
    "data_path = './Dataset/Train/'\n",
    "predictor_path = './shape_predictor_68_face_landmarks.dat'\n",
    "predictor = dlib.shape_predictor(predictor_path)\n",
    "\n",
    "#데이터 로드\n",
    "face_set = glob.glob('./Dataset/face/*.jpg')\n",
    "\n",
    "for i in range(len(face_set)):\n",
    "    #사이즈 비율 정하기\n",
    "    img = Image.open(face_set[i])\n",
    "    width, height = img.size\n",
    "\n",
    "    #이미지 데이터 1개씩 로드\n",
    "    img = cv2.imread(face_set[i])\n",
    "    \n",
    "    #얼굴 디텍트\n",
    "    faces = face_detector(img,1)\n",
    "    \n",
    "    #디텍트 된 얼굴 수에 따른 반응 설정\n",
    "    if len(faces) >= 1:\n",
    "        print(\"얼굴 검출 성공 =>\", face_set[i])\n",
    "        for i in range(len(faces)):\n",
    "            size = 0\n",
    "\n",
    "\n",
    "            #잘라내기\n",
    "            crop = img[(faces[i].top()-size):(faces[i].bottom()+size), (faces[i].left()-size):(faces[i].right()+size)]\n",
    "\n",
    "\n",
    "                # 인식된 얼굴 개수만큼 반복하여 얼굴 윤곽을 표시\n",
    "            for k, d in enumerate(faces):\n",
    "                # k 얼굴 인덱스\n",
    "                # d 얼굴 좌표\n",
    "                print(\"Detection {}: Left: {} Top: {} Right: {} Bottom: {}\".format(k, d.left(), d.top(), d.right(), d.bottom()))\n",
    "\n",
    "                shape = predictor(img, d)\n",
    "                print(\"Part 0: {}, Part 1: {} ...\".format(shape.part(0),shape.part(1)))\n",
    "\n",
    "                #랜드마크 리스트 생성\n",
    "                landmark_list = []\n",
    "\n",
    "                #인중에 빨강 찍기\n",
    "                for p in shape.parts():\n",
    "                    landmark_list.append([p.x, p.y])\n",
    "                    if p.x == shape.parts()[33].x and p.y == shape.parts()[33].y:\n",
    "                        cv2.circle(img, (p.x, p.y), 1, (0, 0, 255), -1)\n",
    "                        face_center_x = shape.parts()[33].x\n",
    "                        face_center_y = shape.parts()[33].y\n",
    "                    else:\n",
    "                        cv2.circle(img, (p.x, p.y), 1, (0, 255, 0), -1)\n",
    "                #인중 좌표\n",
    "\n",
    "\n",
    "\n",
    "                file_name = str(crop_count)+\".jpg\"\n",
    "                data_path_a = data_path + file_name\n",
    "                crop = cv2.resize(crop, (440, 400), interpolation = cv2.INTER_AREA)\n",
    "\n",
    "            cv2.imwrite(data_path_a, crop)\n",
    "            crop_count += 1\n",
    "\n",
    "    elif len(faces) == 0:\n",
    "            print('얼굴 검출 실패 =>',face_set[i])\n",
    "            pass\n",
    "    \n",
    "print(len(face_set),'장의 사진 중',crop_count,'개의 얼굴 검출, Crop 완료')"
   ]
  },
  {
   "cell_type": "code",
   "execution_count": 253,
   "metadata": {
    "tags": []
   },
   "outputs": [],
   "source": [
    "x = shape.parts()[33].x\n",
    "y = shape.parts()[33].y"
   ]
  },
  {
   "cell_type": "code",
   "execution_count": 256,
   "metadata": {},
   "outputs": [
    {
     "output_type": "execute_result",
     "data": {
      "text/plain": "[428, 214]"
     },
     "metadata": {},
     "execution_count": 256
    }
   ],
   "source": [
    "l = []\n",
    "\n",
    "l.append(x)\n",
    "l.append(y)\n",
    "l"
   ]
  },
  {
   "cell_type": "code",
   "execution_count": null,
   "metadata": {},
   "outputs": [],
   "source": []
  }
 ],
 "metadata": {
  "kernelspec": {
   "name": "python361064bittarocatconda1728d964b65b467cac41ed427c5dc19b",
   "display_name": "Python 3.6.10 64-bit ('tarocat': conda)"
  }
 },
 "nbformat": 4,
 "nbformat_minor": 4
}